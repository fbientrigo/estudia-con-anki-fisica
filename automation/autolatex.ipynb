{
 "metadata": {
  "language_info": {
   "codemirror_mode": {
    "name": "ipython",
    "version": 3
   },
   "file_extension": ".py",
   "mimetype": "text/x-python",
   "name": "python",
   "nbconvert_exporter": "python",
   "pygments_lexer": "ipython3",
   "version": "3.9.2-final"
  },
  "orig_nbformat": 2,
  "kernelspec": {
   "name": "python392jvsc74a57bd04d8a2d1f964db589f0f95754f544506ec8708476fa0053f56b6f7e27ba78064b",
   "display_name": "Python 3.9.2 64-bit"
  },
  "metadata": {
   "interpreter": {
    "hash": "4d8a2d1f964db589f0f95754f544506ec8708476fa0053f56b6f7e27ba78064b"
   }
  }
 },
 "nbformat": 4,
 "nbformat_minor": 2,
 "cells": [
  {
   "source": [
    "# Que es esto?\n",
    "Para tarjetas de Anki en que la formula, se identica a como se escribe, como por ejemplo\n",
    "Alfa\n",
    "Y \\\\( Alfa\\\\)\n"
   ],
   "cell_type": "markdown",
   "metadata": {}
  },
  {
   "cell_type": "code",
   "execution_count": 12,
   "metadata": {},
   "outputs": [],
   "source": [
    "import ankipy as anki\n",
    "#help(anki)\n",
    "\n",
    "# donde guardar\n",
    "latcsv = \"./csv_out/letras_griegas.csv\""
   ]
  },
  {
   "cell_type": "code",
   "execution_count": 9,
   "metadata": {},
   "outputs": [],
   "source": [
    "array = []\n",
    "def simbolo(symb, tags = \"simbol symbol\"):\n",
    "    \"\"\"\n",
    "    Creara una linea de la libreria anki, con tags po default como symbol o simbolo,\n",
    "    las tarjetas veremos el simbolo y en el back el como se escribe\n",
    "    \"\"\"\n",
    "    _ = anki.Linea(anki.eq(symb) , symb, tags)\n",
    "    array.append(_.linea)\n",
    "    print(_.linea)"
   ]
  },
  {
   "cell_type": "code",
   "execution_count": 4,
   "metadata": {},
   "outputs": [],
   "source": [
    "Letras = [\"alfa\", \"beta\", \"gamma\", \"epsilon\", \"delta\",\"epsilon\",\"zeta\",\"eta\",\"theta\",\"iota\",\"kappa\", \"lambda\", \"mu\",\"nu\",\"omicron\",\"pi\",\"rho\",\"sigma\",\"tau\",\"upsilon\",\"phi\",\"chi\",\"psi\",\"omega\"]"
   ]
  },
  {
   "cell_type": "code",
   "execution_count": 10,
   "metadata": {},
   "outputs": [
    {
     "output_type": "stream",
     "name": "stdout",
     "text": [
      "\\(alfa\\) , alfa , simbol symbol\n\\(Alfa\\) , Alfa , simbol symbol\n\\(beta\\) , beta , simbol symbol\n\\(Beta\\) , Beta , simbol symbol\n\\(gamma\\) , gamma , simbol symbol\n\\(Gamma\\) , Gamma , simbol symbol\n\\(epsilon\\) , epsilon , simbol symbol\n\\(Epsilon\\) , Epsilon , simbol symbol\n\\(delta\\) , delta , simbol symbol\n\\(Delta\\) , Delta , simbol symbol\n\\(epsilon\\) , epsilon , simbol symbol\n\\(Epsilon\\) , Epsilon , simbol symbol\n\\(zeta\\) , zeta , simbol symbol\n\\(Zeta\\) , Zeta , simbol symbol\n\\(eta\\) , eta , simbol symbol\n\\(Eta\\) , Eta , simbol symbol\n\\(theta\\) , theta , simbol symbol\n\\(Theta\\) , Theta , simbol symbol\n\\(iota\\) , iota , simbol symbol\n\\(Iota\\) , Iota , simbol symbol\n\\(kappa\\) , kappa , simbol symbol\n\\(Kappa\\) , Kappa , simbol symbol\n\\(lambda\\) , lambda , simbol symbol\n\\(Lambda\\) , Lambda , simbol symbol\n\\(mu\\) , mu , simbol symbol\n\\(Mu\\) , Mu , simbol symbol\n\\(nu\\) , nu , simbol symbol\n\\(Nu\\) , Nu , simbol symbol\n\\(omicron\\) , omicron , simbol symbol\n\\(Omicron\\) , Omicron , simbol symbol\n\\(pi\\) , pi , simbol symbol\n\\(Pi\\) , Pi , simbol symbol\n\\(rho\\) , rho , simbol symbol\n\\(Rho\\) , Rho , simbol symbol\n\\(sigma\\) , sigma , simbol symbol\n\\(Sigma\\) , Sigma , simbol symbol\n\\(tau\\) , tau , simbol symbol\n\\(Tau\\) , Tau , simbol symbol\n\\(upsilon\\) , upsilon , simbol symbol\n\\(Upsilon\\) , Upsilon , simbol symbol\n\\(phi\\) , phi , simbol symbol\n\\(Phi\\) , Phi , simbol symbol\n\\(chi\\) , chi , simbol symbol\n\\(Chi\\) , Chi , simbol symbol\n\\(psi\\) , psi , simbol symbol\n\\(Psi\\) , Psi , simbol symbol\n\\(omega\\) , omega , simbol symbol\n\\(Omega\\) , Omega , simbol symbol\n"
     ]
    }
   ],
   "source": [
    "for let in Letras:\n",
    "    simbolo(let)\n",
    "    simbolo(let.capitalize())"
   ]
  },
  {
   "cell_type": "code",
   "execution_count": 13,
   "metadata": {},
   "outputs": [
    {
     "output_type": "stream",
     "name": "stdout",
     "text": [
      "se agrega corte\n",
      "Escritura realizada con exito\n",
      "se agrega corte\n",
      "Escritura realizada con exito\n",
      "se agrega corte\n",
      "Escritura realizada con exito\n",
      "se agrega corte\n",
      "Escritura realizada con exito\n",
      "se agrega corte\n",
      "Escritura realizada con exito\n",
      "se agrega corte\n",
      "Escritura realizada con exito\n",
      "se agrega corte\n",
      "Escritura realizada con exito\n",
      "se agrega corte\n",
      "Escritura realizada con exito\n",
      "se agrega corte\n",
      "Escritura realizada con exito\n",
      "se agrega corte\n",
      "Escritura realizada con exito\n",
      "se agrega corte\n",
      "Escritura realizada con exito\n",
      "se agrega corte\n",
      "Escritura realizada con exito\n",
      "se agrega corte\n",
      "Escritura realizada con exito\n",
      "se agrega corte\n",
      "Escritura realizada con exito\n",
      "se agrega corte\n",
      "Escritura realizada con exito\n",
      "se agrega corte\n",
      "Escritura realizada con exito\n",
      "se agrega corte\n",
      "Escritura realizada con exito\n",
      "se agrega corte\n",
      "Escritura realizada con exito\n",
      "se agrega corte\n",
      "Escritura realizada con exito\n",
      "se agrega corte\n",
      "Escritura realizada con exito\n",
      "se agrega corte\n",
      "Escritura realizada con exito\n",
      "se agrega corte\n",
      "Escritura realizada con exito\n",
      "se agrega corte\n",
      "Escritura realizada con exito\n",
      "se agrega corte\n",
      "Escritura realizada con exito\n",
      "se agrega corte\n",
      "Escritura realizada con exito\n",
      "se agrega corte\n",
      "Escritura realizada con exito\n",
      "se agrega corte\n",
      "Escritura realizada con exito\n",
      "se agrega corte\n",
      "Escritura realizada con exito\n",
      "se agrega corte\n",
      "Escritura realizada con exito\n",
      "se agrega corte\n",
      "Escritura realizada con exito\n",
      "se agrega corte\n",
      "Escritura realizada con exito\n",
      "se agrega corte\n",
      "Escritura realizada con exito\n",
      "se agrega corte\n",
      "Escritura realizada con exito\n",
      "se agrega corte\n",
      "Escritura realizada con exito\n",
      "se agrega corte\n",
      "Escritura realizada con exito\n",
      "se agrega corte\n",
      "Escritura realizada con exito\n",
      "se agrega corte\n",
      "Escritura realizada con exito\n",
      "se agrega corte\n",
      "Escritura realizada con exito\n",
      "se agrega corte\n",
      "Escritura realizada con exito\n",
      "se agrega corte\n",
      "Escritura realizada con exito\n",
      "se agrega corte\n",
      "Escritura realizada con exito\n",
      "se agrega corte\n",
      "Escritura realizada con exito\n",
      "se agrega corte\n",
      "Escritura realizada con exito\n",
      "se agrega corte\n",
      "Escritura realizada con exito\n",
      "se agrega corte\n",
      "Escritura realizada con exito\n",
      "se agrega corte\n",
      "Escritura realizada con exito\n",
      "se agrega corte\n",
      "Escritura realizada con exito\n",
      "se agrega corte\n",
      "Escritura realizada con exito\n"
     ]
    }
   ],
   "source": [
    "#array\n",
    "#aqui para escribir\n",
    "for lin in array:\n",
    "    anki.escribir(latcsv, lin,\"a\")\n",
    "    "
   ]
  },
  {
   "cell_type": "code",
   "execution_count": null,
   "metadata": {},
   "outputs": [],
   "source": []
  }
 ]
}