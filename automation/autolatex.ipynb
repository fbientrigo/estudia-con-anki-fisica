{
 "metadata": {
  "language_info": {
   "codemirror_mode": {
    "name": "ipython",
    "version": 3
   },
   "file_extension": ".py",
   "mimetype": "text/x-python",
   "name": "python",
   "nbconvert_exporter": "python",
   "pygments_lexer": "ipython3",
   "version": "3.9.2"
  },
  "orig_nbformat": 2,
  "kernelspec": {
   "name": "python392jvsc74a57bd04d8a2d1f964db589f0f95754f544506ec8708476fa0053f56b6f7e27ba78064b",
   "display_name": "Python 3.9.2 64-bit"
  },
  "metadata": {
   "interpreter": {
    "hash": "4d8a2d1f964db589f0f95754f544506ec8708476fa0053f56b6f7e27ba78064b"
   }
  }
 },
 "nbformat": 4,
 "nbformat_minor": 2,
 "cells": [
  {
   "cell_type": "code",
   "execution_count": 3,
   "metadata": {},
   "outputs": [
    {
     "output_type": "stream",
     "name": "stdout",
     "text": [
      "Help on module ankipy:\n\nNAME\n    ankipy\n\nDESCRIPTION\n    #Libreria para utilizar en automation.ipynb\n    # aqui todas las funciones ocupadas para hacerlo mas ordenado\n\nCLASSES\n    builtins.object\n        Linea\n    \n    class Linea(builtins.object)\n     |  Linea(pregunta, solucion='', tags='')\n     |  \n     |  # Objeto Principal\n     |  # Toda linea se guarda dentro de una clase, de esa manera\n     |  # podemos sumarlas (que las concatena con un salto de linea)\n     |  # y dejar espacios en blancos para modificarlas a gusto\n     |  \n     |  Methods defined here:\n     |  \n     |  __add__(self, other)\n     |      #Aqui ocurre la magia, agregamos un salto de linea entre cada suma\n     |  \n     |  __init__(self, pregunta, solucion='', tags='')\n     |      Initialize self.  See help(type(self)) for accurate signature.\n     |  \n     |  __repr__(self)\n     |      Return repr(self).\n     |  \n     |  ----------------------------------------------------------------------\n     |  Data descriptors defined here:\n     |  \n     |  __dict__\n     |      dictionary for instance variables (if defined)\n     |  \n     |  __weakref__\n     |      list of weak references to the object (if defined)\n\nFUNCTIONS\n    copy(source, destiny)\n        Crea una copia del archivo source a destiny, se hace con una sola\n        variable, asi que ojo a que sucede con archivos grandes\n    \n    d(fx, x)\n        Nos devuelve la derivada total de f(x), simbolicamente\n    \n    eq(texto)\n        Se encarga de cerrar la ecuacion de latex en los brackets\n        que necesita anki para math mode\n    \n    escribir(destino, texto, opt='w')\n        Escribe en el fichero, nos ahorra sintaxis, opt controla\n        que sucede con el fichero\n        'w' es para sobreescribir y crear\n        'a' es para agregar al final sin borrar lo anterior\n    \n    frac(num, dem)\n        La clasica fraccion de Latex\n    \n    vec(obj)\n\nFILE\n    c:\\users\\fbien\\documents\\documentos lindos\\github\\anki-fisica\\automation\\ankipy.py\n\n\n"
     ]
    }
   ],
   "source": [
    "import ankipy as anki\n",
    "help(anki)\n",
    "\n",
    "# donde guardar\n",
    "latcsv = \"./csv_out/latex.csv\""
   ]
  },
  {
   "cell_type": "code",
   "execution_count": 6,
   "metadata": {},
   "outputs": [],
   "source": [
    "array = []\n",
    "def simbolo(symb, tags = \"simbol symbol\"):\n",
    "    \"\"\"\n",
    "    Creara una linea de la libreria anki, con tags po default como symbol o simbolo,\n",
    "    las tarjetas veremos el simbolo y en el back el como se escribe\n",
    "    \"\"\"\n",
    "    _ = anki.Linea(anki.eq(symb) , symb, tags)\n",
    "    array.append(_.linea)\n",
    "    print(\"_.linea\")"
   ]
  },
  {
   "cell_type": "code",
   "execution_count": 66,
   "metadata": {},
   "outputs": [
    {
     "output_type": "stream",
     "name": "stdout",
     "text": [
      "no errors\n"
     ]
    }
   ],
   "source": [
    "simbolo(\"\\\\sigma\")"
   ]
  },
  {
   "cell_type": "code",
   "execution_count": 69,
   "metadata": {},
   "outputs": [
    {
     "output_type": "stream",
     "name": "stdout",
     "text": [
      "se agrega corte\nEscritura realizada con exito\nse agrega corte\nEscritura realizada con exito\nse agrega corte\nEscritura realizada con exito\nse agrega corte\nEscritura realizada con exito\nse agrega corte\nEscritura realizada con exito\nse agrega corte\nEscritura realizada con exito\nse agrega corte\nEscritura realizada con exito\nse agrega corte\nEscritura realizada con exito\nse agrega corte\nEscritura realizada con exito\nse agrega corte\nEscritura realizada con exito\nse agrega corte\nEscritura realizada con exito\nse agrega corte\nEscritura realizada con exito\nse agrega corte\nEscritura realizada con exito\nse agrega corte\nEscritura realizada con exito\nse agrega corte\nEscritura realizada con exito\nse agrega corte\nEscritura realizada con exito\nse agrega corte\nEscritura realizada con exito\nse agrega corte\nEscritura realizada con exito\nse agrega corte\nEscritura realizada con exito\nse agrega corte\nEscritura realizada con exito\nse agrega corte\nEscritura realizada con exito\nse agrega corte\nEscritura realizada con exito\nse agrega corte\nEscritura realizada con exito\nse agrega corte\nEscritura realizada con exito\nse agrega corte\nEscritura realizada con exito\nse agrega corte\nEscritura realizada con exito\nse agrega corte\nEscritura realizada con exito\nse agrega corte\nEscritura realizada con exito\nse agrega corte\nEscritura realizada con exito\nse agrega corte\nEscritura realizada con exito\nse agrega corte\nEscritura realizada con exito\nse agrega corte\nEscritura realizada con exito\nse agrega corte\nEscritura realizada con exito\nse agrega corte\nEscritura realizada con exito\nse agrega corte\nEscritura realizada con exito\nse agrega corte\nEscritura realizada con exito\nse agrega corte\nEscritura realizada con exito\nse agrega corte\nEscritura realizada con exito\nse agrega corte\nEscritura realizada con exito\nse agrega corte\nEscritura realizada con exito\nse agrega corte\nEscritura realizada con exito\nse agrega corte\nEscritura realizada con exito\nse agrega corte\nEscritura realizada con exito\nse agrega corte\nEscritura realizada con exito\nse agrega corte\nEscritura realizada con exito\nse agrega corte\nEscritura realizada con exito\nse agrega corte\nEscritura realizada con exito\nse agrega corte\nEscritura realizada con exito\nse agrega corte\nEscritura realizada con exito\nse agrega corte\nEscritura realizada con exito\nse agrega corte\nEscritura realizada con exito\nse agrega corte\nEscritura realizada con exito\nse agrega corte\nEscritura realizada con exito\nse agrega corte\nEscritura realizada con exito\nse agrega corte\nEscritura realizada con exito\nse agrega corte\nEscritura realizada con exito\nse agrega corte\nEscritura realizada con exito\nse agrega corte\nEscritura realizada con exito\n"
     ]
    }
   ],
   "source": [
    "#array\n",
    "#aqui para escribir\n",
    "for lin in array:\n",
    "    anki.escribir(latcsv, lin,\"a\")"
   ]
  },
  {
   "cell_type": "code",
   "execution_count": null,
   "metadata": {},
   "outputs": [],
   "source": []
  }
 ]
}