{
 "metadata": {
  "language_info": {
   "codemirror_mode": {
    "name": "ipython",
    "version": 3
   },
   "file_extension": ".py",
   "mimetype": "text/x-python",
   "name": "python",
   "nbconvert_exporter": "python",
   "pygments_lexer": "ipython3",
   "version": "3.9.2"
  },
  "orig_nbformat": 2,
  "kernelspec": {
   "name": "python392jvsc74a57bd04d8a2d1f964db589f0f95754f544506ec8708476fa0053f56b6f7e27ba78064b",
   "display_name": "Python 3.9.2 64-bit"
  },
  "metadata": {
   "interpreter": {
    "hash": "4d8a2d1f964db589f0f95754f544506ec8708476fa0053f56b6f7e27ba78064b"
   }
  }
 },
 "nbformat": 4,
 "nbformat_minor": 2,
 "cells": [
  {
   "source": [
    "Partiendo por las ubicaciones de los archivos de interes"
   ],
   "cell_type": "markdown",
   "metadata": {}
  },
  {
   "cell_type": "code",
   "execution_count": 1,
   "metadata": {},
   "outputs": [],
   "source": [
    "#Path to Original CSV\n",
    "folder = \"../csv/\"\n",
    "ex = folder + \"ejercicios.csv\"\n",
    "ca = folder + \"calculos.csv\"\n",
    "eqc = folder + \"ecuaciones.csv\"\n",
    "teg= folder + \"integrales.csv\"\n",
    "\n",
    "#Destino Experimental\n",
    "folderd = \"./csv_out/\"\n",
    "exd = folderd + \"ejercicios.csv\"\n",
    "cad = folderd + \"calculos.csv\"\n",
    "eqd = folderd + \"ecuaciones.csv\"\n",
    "tegd= folderd + \"integrales.csv\"\n",
    "\n",
    "calculo_1 = folderd + \"calculo1.csv\""
   ]
  },
  {
   "source": [
    "Aqui una funcion para poder copiar lo que tengamos hecho en la carpeta csv y hacer un update a nuestras versiones experimentales."
   ],
   "cell_type": "markdown",
   "metadata": {}
  },
  {
   "cell_type": "code",
   "execution_count": 67,
   "metadata": {},
   "outputs": [],
   "source": [
    "from ankipy import * #la libreria en esta carpeta"
   ]
  },
  {
   "source": [
    "# como se hara\n",
    "El archivo sigue esto para cada linea, es separado por coma, asi que usa `;` en lugar de `,` en los textos\n",
    "`El problma, la solucion, tags`\n",
    "\n",
    "En caso de no poseer la solucion en este momento seria bueno poder dar un valor default, de manera de introducirla despues\n",
    "\n",
    "Ojo que una vez todo este listo alli va al fichero, si se hace antes sera mas dificil cambiar cosas\n",
    "\n",
    "## Una pequeña guia\n",
    "* `<br>` para quebrar linea, usa html\n",
    "* linea = Linea(pregunta, solucion, tags)\n",
    "* linea.pregunta = 'modifica asi'\n",
    "\n",
    "## Puedes sumar lineas, convirtiendolas en un string\n",
    ">lin = Linea('hola')\n",
    "\n",
    ">lin2 = Linea('quien','tu','tag')\n",
    "\n",
    ">total = lin + lin2\n",
    "\n",
    ">print(total)\n",
    "\n",
    "Y a ese total podemos volver a sumarle,` pero ojo que no obtendremos un objeto Linea con sus propiedades`, al sumar lo perdemos y queda como un string para llevarlo al fichero.\n",
    "\n",
    "Aqui puedes probar tu codigo de Latex:http://www.texrendr.com/"
   ],
   "cell_type": "markdown",
   "metadata": {}
  },
  {
   "source": [
    "# una idea para escribir varias lineas\n",
    "> arraylineas = \\[lin2, lin3,...]\n",
    "\n",
    "> total = lin1 #inicial\n",
    "\n",
    "> for ilin in arraylineas:\n",
    "\n",
    "> > total += ilin"
   ],
   "cell_type": "markdown",
   "metadata": {}
  },
  {
   "cell_type": "code",
   "execution_count": 71,
   "metadata": {},
   "outputs": [
    {
     "output_type": "stream",
     "name": "stdout",
     "text": [
      "El total de este loop\nPregunta4 , Respuesta4 , electro\nPregunta3 , Respuesta3 , quantum\nPregunta2 , Respuesta2 , electro\nPregunta1 , Respuesta1 , electro\nEscritura realizada con exito\n"
     ]
    }
   ],
   "source": [
    "lin1 = Linea(\"Pregunta1\", \"Respuesta1\",\"electro\")\n",
    "lin2 = Linea(\"Pregunta2\", \"Respuesta2\",\"electro\")\n",
    "lin3 = Linea(\"Pregunta3\", \"Respuesta3\",\"quantum\")\n",
    "lin4 = Linea(\"Pregunta4\", \"Respuesta4\",\"electro\")\n",
    "\n",
    "arraylineas = [lin2, lin3,lin4]\n",
    "total = lin1 #inicial\n",
    "\n",
    "# es importante sumar izquierda objeto clase y dercha string\n",
    "# tendras problemas de la forma inversa\n",
    "for ilin in arraylineas:\n",
    "     total = ilin + total\n",
    "\n",
    "print(\"El total de este loop\")\n",
    "print(total)\n",
    "\n",
    "#Utilicemos el total para almacenarlo en el csv: exd\n",
    "     escribir(exd, total)"
   ]
  },
  {
   "source": [
    "# Calculo 1"
   ],
   "cell_type": "markdown",
   "metadata": {}
  },
  {
   "cell_type": "code",
   "execution_count": 4,
   "metadata": {},
   "outputs": [],
   "source": [
    "from ankipy import *\n",
    "# Usare d(fx,x) que hace derivadas rapido en mathmode\n",
    "# eq() para introducir una ecuacion"
   ]
  },
  {
   "cell_type": "code",
   "execution_count": 15,
   "metadata": {},
   "outputs": [
    {
     "output_type": "execute_result",
     "data": {
      "text/plain": [
       "'\\\\(12\\\\)'"
      ]
     },
     "metadata": {},
     "execution_count": 15
    }
   ],
   "source": []
  },
  {
   "cell_type": "code",
   "execution_count": 16,
   "metadata": {},
   "outputs": [
    {
     "output_type": "stream",
     "name": "stdout",
     "text": [
      "Escritura realizada con exito\n"
     ]
    }
   ],
   "source": [
    "c = \"calculo polinomial\"\n",
    "\n",
    "def calculof(fx,result, tag = c):\n",
    "    return Linea(eq(d(fx,\"x\") + \"=\"),eq(result),tag)\n",
    "lin0 = Linea( eq(\"f' =\"), eq( d(\"f\",\"x\") ) , c)\n",
    "lin1 = calculof(\"c\", \"0\")\n",
    "\n",
    "total = lin0 + lin1\n",
    "#Con esto escribiremos\n",
    "escribir(calculo_1, total)\n",
    "\n",
    "#ahora continuare escribiendo mas a este archivo, pero con\n",
    "#escribir(calculo_1, linnueva, \"a\")\n"
   ]
  },
  {
   "cell_type": "code",
   "execution_count": 18,
   "metadata": {},
   "outputs": [],
   "source": [
    "l1 = calculof(\"x\",\"1\")\n",
    "l2 = calculof(\"cx\",\"c\")\n",
    "l3 = calculof(\"x^n\", \"n  x ^{n-1}\")\n",
    "l4 = calculof(\"v^n\", \"n  x ^{n-1} * (\" + d(\"v\",\"x\") + \")\")\n",
    "l5 = calculof(\"u v\", \"u \" + d(\"v\",\"x\") + \"+\" + \"v \" + d(\"u\",\"x\"))\n",
    "l6 = calculof(\"\\\\frac{u}{v}\", \"( v u' - u  v' )\" + \"\\\\frac{1}{v^2}\" )\n",
    "\n",
    "array = [l2,l3,l4,l5,l6]\n",
    "total = l1\n",
    "for ilin in array:\n",
    "    total = ilin + total"
   ]
  },
  {
   "cell_type": "code",
   "execution_count": 19,
   "metadata": {},
   "outputs": [
    {
     "output_type": "stream",
     "name": "stdout",
     "text": [
      "se agrega corte\nEscritura realizada con exito\n"
     ]
    }
   ],
   "source": [
    "#Aqui para agregar\n",
    "escribir(calculo_1,total,\"a\")"
   ]
  },
  {
   "source": [
    "# Electromagnetismo"
   ],
   "cell_type": "markdown",
   "metadata": {}
  },
  {
   "cell_type": "code",
   "execution_count": 9,
   "metadata": {},
   "outputs": [],
   "source": [
    "from ankipy import *\n",
    "folderd = \"./csv_out/\"\n",
    "electro = folderd + \"electro2.csv\"\n",
    "\n",
    "#objetos utiles\n",
    "grifr = vec(\"r\") + \"-\" + vec(\"r'\") #esta es la tipica r - r'\n",
    "sqrule = frac( grifr , \"|\" +grifr +\"|^3\" ) #aqui el r-r' dividido en el cubo\n",
    "nabla = lambda x: \"\\\\nabla{\" + str(x) + \"}\"\n",
    "abs = lambda x: \"|\" + str(x) + \"|\"\n",
    "cdot = \"\\\\cdot\"\n"
   ]
  },
  {
   "cell_type": "code",
   "execution_count": 26,
   "metadata": {},
   "outputs": [],
   "source": [
    "lin0 = Linea(\"Valor de la siguiente divergencia tip: representacion integral del campo Electrico\" + eq( nabla(cdot) + frac( vec(\"r\"), \"r^3\")) ,\"usando \"+ eq(\"4 \\\\pi \\\\delta(\"+vec(\"r\")+\")\") +\"acabamos calculando la div E como \" + eq(frac(\"\\\\rho \",\"\\\\epsilon_0\")))\n"
   ]
  },
  {
   "cell_type": "code",
   "execution_count": 24,
   "metadata": {},
   "outputs": [
    {
     "output_type": "stream",
     "name": "stdout",
     "text": [
      "se agrega corte\nEscritura realizada con exito\n"
     ]
    }
   ],
   "source": [
    "#escribir, esto hara append\n",
    "output = lin0.linea\n",
    "escribir(electro, output , \"a)"
   ]
  },
  {
   "cell_type": "code",
   "execution_count": 27,
   "metadata": {},
   "outputs": [
    {
     "output_type": "stream",
     "name": "stdout",
     "text": [
      "Valor de la siguiente divergencia tip: representacion integral del campo Electrico\\(\\nabla{\\cdot}\\frac{\\vec{r}}{r^3}\\) , usando \\(4 \\pi \\delta(\\vec{r})\\)acabamos calculando la div E como \\(\\frac{\\rho }{\\epsilon_0}\\) , \n"
     ]
    }
   ],
   "source": [
    "# Esto para ingresarlo a una parte de pruebas\n",
    "print(lin0.linea)"
   ]
  },
  {
   "cell_type": "code",
   "execution_count": 3,
   "metadata": {},
   "outputs": [
    {
     "output_type": "execute_result",
     "data": {
      "text/plain": [
       "<function ankipy.vec(obj)>"
      ]
     },
     "metadata": {},
     "execution_count": 3
    }
   ],
   "source": []
  },
  {
   "cell_type": "code",
   "execution_count": null,
   "metadata": {},
   "outputs": [],
   "source": []
  }
 ]
}