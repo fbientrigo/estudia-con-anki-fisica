{
 "metadata": {
  "language_info": {
   "codemirror_mode": {
    "name": "ipython",
    "version": 3
   },
   "file_extension": ".py",
   "mimetype": "text/x-python",
   "name": "python",
   "nbconvert_exporter": "python",
   "pygments_lexer": "ipython3",
   "version": "3.8.5"
  },
  "orig_nbformat": 2,
  "kernelspec": {
   "name": "python3",
   "display_name": "Python 3",
   "language": "python"
  }
 },
 "nbformat": 4,
 "nbformat_minor": 2,
 "cells": [
  {
   "source": [
    "Partiendo por las ubicaciones de los archivos de interes"
   ],
   "cell_type": "markdown",
   "metadata": {}
  },
  {
   "cell_type": "code",
   "execution_count": 1,
   "metadata": {},
   "outputs": [],
   "source": [
    "#Path to Original CSV\n",
    "folder = \"../csv/\"\n",
    "ex = folder + \"ejercicios.csv\"\n",
    "ca = folder + \"calculos.csv\"\n",
    "eq = folder + \"ecuaciones.csv\"\n",
    "teg= folder + \"integrales.csv\"\n",
    "\n",
    "#Destino Experimental\n",
    "folderd = \"./csv_out/\"\n",
    "exd = folderd + \"ejercicios.csv\"\n",
    "cad = folderd + \"calculos.csv\"\n",
    "eqd = folderd + \"ecuaciones.csv\"\n",
    "tegd= folderd + \"integrales.csv\""
   ]
  },
  {
   "source": [
    "Aqui una funcion para poder copiar lo que tengamos hecho en la carpeta csv y hacer un update a nuestras versiones experimentales."
   ],
   "cell_type": "markdown",
   "metadata": {}
  },
  {
   "cell_type": "code",
   "execution_count": 5,
   "metadata": {},
   "outputs": [],
   "source": [
    "from ankipy import * #la libreria en esta carpeta\n",
    "\n",
    "copy(ex, exd) # creamos una copia para ejercicios, acceda con exd"
   ]
  },
  {
   "source": [
    "# como se hara\n",
    "El archivo sigue esto para cada linea, es separado por coma, asi que usa `;` en lugar de `,` en los textos\n",
    "`El problma, la solucion, tags`\n",
    "\n",
    "En caso de no poseer la solucion en este momento seria bueno poder dar un valor default, de manera de introducirla despues\n",
    "\n",
    "Ojo que una vez todo este listo alli va al fichero, si se hace antes sera mas dificil cambiar cosas\n",
    "\n",
    "## Una pequeña guia\n",
    "* `<br>` para quebrar linea, usa html\n",
    "* linea = Linea(pregunta, solucion, tags)\n",
    "* linea.pregunta = 'modifica asi'\n",
    "\n",
    "## Puedes sumar lineas, convirtiendolas en un string\n",
    ">lin = Linea('hola')\n",
    "\n",
    ">lin2 = Linea('quien','tu','tag')\n",
    "\n",
    ">total = lin + lin2\n",
    "\n",
    ">print(total)\n",
    "\n",
    "Y a ese total podemos volver a sumarle,` pero ojo que no obtendremos un objeto Linea con sus propiedades`, al sumar lo perdemos y queda como un string para llevarlo al fichero."
   ],
   "cell_type": "markdown",
   "metadata": {}
  },
  {
   "source": [
    "# una idea para escribir varias lineas\n",
    "> arraylineas = \\[lin2, lin3,...]\n",
    "\n",
    "> total = lin1 #inicial\n",
    "\n",
    "> for ilin in arraylineas:\n",
    "\n",
    "> > total += ilin"
   ],
   "cell_type": "markdown",
   "metadata": {}
  },
  {
   "cell_type": "code",
   "execution_count": 11,
   "metadata": {},
   "outputs": [
    {
     "output_type": "stream",
     "name": "stdout",
     "text": [
      "El total de este loop\nPregunta4 , Respuesta4 , electro\nPregunta3 , Respuesta3 , quantum\nPregunta2 , Respuesta2 , electro\nPregunta1 , Respuesta1 , electro\n"
     ]
    }
   ],
   "source": [
    "lin1 = Linea(\"Pregunta1\", \"Respuesta1\",\"electro\")\n",
    "lin2 = Linea(\"Pregunta2\", \"Respuesta2\",\"electro\")\n",
    "lin3 = Linea(\"Pregunta3\", \"Respuesta3\",\"quantum\")\n",
    "lin4 = Linea(\"Pregunta4\", \"Respuesta4\",\"electro\")\n",
    "\n",
    "arraylineas = [lin2, lin3,lin4]\n",
    "total = lin1 #inicial\n",
    "\n",
    "# es importante sumar izquierda objeto clase y dercha string\n",
    "# tendras problemas de la forma inversa\n",
    "for ilin in arraylineas:\n",
    "     total = ilin + total\n",
    "\n",
    "print(\"El total de este loop\")\n",
    "print(total)\n",
    "\n",
    "#Utilicemos el total para almacenarlo en el csv: exd\n",
    "escribir(exd, total)"
   ]
  },
  {
   "cell_type": "code",
   "execution_count": null,
   "metadata": {},
   "outputs": [],
   "source": []
  }
 ]
}